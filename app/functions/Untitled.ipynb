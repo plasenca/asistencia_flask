{
 "cells": [
  {
   "cell_type": "code",
   "execution_count": 6,
   "id": "a6a5a244",
   "metadata": {},
   "outputs": [
    {
     "name": "stdout",
     "output_type": "stream",
     "text": [
      "D:\\scripts\\dealing_data_coinp\n",
      "Success\n"
     ]
    }
   ],
   "source": [
    "import pandas as pd\n",
    "from pathlib import Path\n",
    "\n",
    "BASE_PATH = Path().resolve().parent.absolute()\n",
    "print(BASE_PATH)\n",
    "def read_data(file_name):\n",
    "    \"\"\"\n",
    "    Function to read data from .dat file.\n",
    "    \n",
    "    Keyword arguments:\n",
    "    argument -- description\n",
    "    Return: Return a dataframe.\n",
    "    \"\"\"\n",
    "    \n",
    "    data = pd.read_csv(file_name, sep='\\t', header=None)\n",
    "    data.columns = ['employee_number', 'arrive_time', \n",
    "                    'rubbish_1', 'rubbish_2', \n",
    "                    'rubbish_3', 'rubbish_4']\n",
    "    \n",
    "    return data\n",
    "\n",
    "if __name__ == '__main__':\n",
    "    data_raw:pd.DataFrame = read_data(BASE_PATH / 'data' / 'data.dat')\n",
    "    data_csv = data_raw.to_csv(BASE_PATH / 'data' / 'data.csv', index=False)\n",
    "    print(\"Success\")"
   ]
  },
  {
   "cell_type": "code",
   "execution_count": null,
   "id": "cbab0feb",
   "metadata": {},
   "outputs": [],
   "source": []
  },
  {
   "cell_type": "code",
   "execution_count": null,
   "id": "3fa64b76",
   "metadata": {},
   "outputs": [],
   "source": []
  },
  {
   "cell_type": "code",
   "execution_count": null,
   "id": "13fdda94",
   "metadata": {},
   "outputs": [],
   "source": []
  },
  {
   "cell_type": "code",
   "execution_count": null,
   "id": "8b31883b",
   "metadata": {},
   "outputs": [],
   "source": []
  }
 ],
 "metadata": {
  "kernelspec": {
   "display_name": "Python 3 (ipykernel)",
   "language": "python",
   "name": "python3"
  },
  "language_info": {
   "codemirror_mode": {
    "name": "ipython",
    "version": 3
   },
   "file_extension": ".py",
   "mimetype": "text/x-python",
   "name": "python",
   "nbconvert_exporter": "python",
   "pygments_lexer": "ipython3",
   "version": "3.9.12"
  }
 },
 "nbformat": 4,
 "nbformat_minor": 5
}
